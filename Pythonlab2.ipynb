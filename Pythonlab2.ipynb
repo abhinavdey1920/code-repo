{
  "nbformat": 4,
  "nbformat_minor": 0,
  "metadata": {
    "colab": {
      "name": "Pythonlab2.ipynb",
      "provenance": [],
      "collapsed_sections": [],
      "authorship_tag": "ABX9TyO2H/YH7zkIAuwPtac/2EnJ",
      "include_colab_link": true
    },
    "kernelspec": {
      "name": "python3",
      "display_name": "Python 3"
    },
    "language_info": {
      "name": "python"
    }
  },
  "cells": [
    {
      "cell_type": "markdown",
      "metadata": {
        "id": "view-in-github",
        "colab_type": "text"
      },
      "source": [
        "<a href=\"https://colab.research.google.com/github/abhinavdey1920/code-repo/blob/main/Pythonlab2.ipynb\" target=\"_parent\"><img src=\"https://colab.research.google.com/assets/colab-badge.svg\" alt=\"Open In Colab\"/></a>"
      ]
    },
    {
      "cell_type": "markdown",
      "source": [
        "Q1)"
      ],
      "metadata": {
        "id": "4Aux1jU75jmr"
      }
    },
    {
      "cell_type": "code",
      "execution_count": 61,
      "metadata": {
        "id": "Y2REuSOlsZxG"
      },
      "outputs": [],
      "source": [
        "class Complex ():\n",
        "    def initComplex(self):\n",
        "        self.realPart = int(input(\"Enter the Real Part: \"))\n",
        "        self.imgPart = int(input(\"Enter the Imaginary Part: \"))            \n",
        "    def display(self):\n",
        "        print(self.realPart,\"+\",self.imgPart,\"i\", sep=\"\")\n",
        "    def sum(self, c1, c2):\n",
        "        self.realPart = c1.realPart + c2.realPart\n",
        "        self.imgPart = c1.imgPart + c2.imgPart\n",
        "    def diff(self,c1,c2):\n",
        "      self.realPart = c1.realPart - c2.realPart\n",
        "      self.imgPart = c1.imgPart - c2.imgPart\n",
        "    def mul(self,c1,c2):\n",
        "      self.realPart =c1.realPart*c1.realPart- c1.imgPart*c2.imgPart\n",
        "      self.imgPart =c1.realPart*c2.imgPart+c1.realPart*c2.imgPart\n",
        "    def equal(self):\n",
        "      if(c1.realPart==c2.realPart & c1.imgPart==c2.imgPart):\n",
        "        print(\"They are equal\")\n",
        "      else:\n",
        "        print(\"They are not equal\")\n",
        "    def chksize(self):\n",
        "      if(c1.realPart>c2.realPart & c1.imgPart>c2.imgPart):\n",
        "        print(\"C1 is greater\")\n",
        "      else:\n",
        "        print(\"C2 is greater\")\n",
        "\n",
        "     \n",
        "      \n",
        "     \n",
        "c1 = Complex()\n",
        "c2 = Complex()\n",
        "c3 = Complex()"
      ]
    },
    {
      "cell_type": "code",
      "source": [
        "print(\"Enter first complex number\")\n",
        "c1.initComplex()\n",
        "print(\"First Complex Number: \", end=\"\")\n",
        "c1.display()\n",
        "print(\"Enter second complex number\")\n",
        "c2.initComplex()\n",
        "print(\"Second Complex Number: \", end=\"\")\n",
        "c2.display()\n",
        "print(\"Sum of two complex numbers is \", end=\"\")\n",
        "c3.sum(c1,c2)\n",
        "c3.display()\n",
        "print(\"diffrence of two complex numbers is \", end=\"\")\n",
        "c3.diff(c1,c2)\n",
        "c3.display()\n",
        "print(\"product of two complex numbers is \", end=\"\")\n",
        "c3.mul(c1,c2)\n",
        "c3.display()\n",
        "c3.equal()\n",
        "c3.chksize()\n"
      ],
      "metadata": {
        "colab": {
          "base_uri": "https://localhost:8080/"
        },
        "id": "QmSOnvW6smfe",
        "outputId": "8450af3c-436d-4fa8-c7af-2d0cb9bb94af"
      },
      "execution_count": 63,
      "outputs": [
        {
          "output_type": "stream",
          "name": "stdout",
          "text": [
            "Enter first complex number\n",
            "Enter the Real Part: 4\n",
            "Enter the Imaginary Part: 6\n",
            "First Complex Number: 4+6i\n",
            "Enter second complex number\n",
            "Enter the Real Part: 7\n",
            "Enter the Imaginary Part: 8\n",
            "Second Complex Number: 7+8i\n",
            "Sum of two complex numbers is 11+14i\n",
            "diffrence of two complex numbers is -3+-2i\n",
            "product of two complex numbers is -32+64i\n",
            "They are not equal\n",
            "C2 is greater\n"
          ]
        }
      ]
    },
    {
      "cell_type": "markdown",
      "source": [
        "Q2)"
      ],
      "metadata": {
        "id": "ITmWYqbH5oAn"
      }
    },
    {
      "cell_type": "code",
      "source": [
        "class Circle:\n",
        "  Radius='None'\n",
        "  def __init__(self,Radius):\n",
        "    self.Radius=Radius\n",
        "  \n",
        "  def getperimeter(self):\n",
        "    return 2*3.14*self.Radius\n",
        "  def area(self):\n",
        "    return 3.14*self.Radius*self.Radius"
      ],
      "metadata": {
        "id": "tCMbtwc25pXC"
      },
      "execution_count": 50,
      "outputs": []
    },
    {
      "cell_type": "code",
      "source": [
        "c=Circle(2)\n",
        "print(\"The radius of circle\",c.Radius) #acessing class variables using objects\n",
        "print(\"The perimeter of circle is \",c.getperimeter())# acessing class method using objects\n",
        "print(\"The area of circle\",c.area())# acessing class method using objects"
      ],
      "metadata": {
        "colab": {
          "base_uri": "https://localhost:8080/"
        },
        "id": "6AdKDfD85vta",
        "outputId": "24db903d-54dd-4c33-8c64-e225fa590a57"
      },
      "execution_count": 51,
      "outputs": [
        {
          "output_type": "stream",
          "name": "stdout",
          "text": [
            "The radius of circle 2\n",
            "The perimeter of circle is  12.56\n",
            "The area of circle 12.56\n"
          ]
        }
      ]
    },
    {
      "cell_type": "markdown",
      "source": [
        "Q3)"
      ],
      "metadata": {
        "id": "p0vIWoxAzu2m"
      }
    },
    {
      "cell_type": "code",
      "source": [
        "class Rectangle:\n",
        "  length='None'\n",
        "  breadth='None'\n",
        "  def getlength_breadth(self):\n",
        "    self.length=int(input(\"Enter length \"))\n",
        "    self.breadth=int(input(\"Enter Breadth \"))\n",
        "  def area(self):\n",
        "    return self.length*self.breadth\n"
      ],
      "metadata": {
        "id": "qDR79C04ztkk"
      },
      "execution_count": 33,
      "outputs": []
    },
    {
      "cell_type": "code",
      "source": [
        "r=Rectangle()\n",
        "r.getlength_breadth()\n",
        "print(r.length) # object r acessing the length\n",
        "print(r.breadth) # object r acessing the breadth\n",
        "print(\"The area of rectangle\")\n",
        "print(r.area())\n"
      ],
      "metadata": {
        "colab": {
          "base_uri": "https://localhost:8080/"
        },
        "id": "DX2lXUrt0aYD",
        "outputId": "eb1d3e5f-e3af-468e-f4df-767be7342955"
      },
      "execution_count": 34,
      "outputs": [
        {
          "output_type": "stream",
          "name": "stdout",
          "text": [
            "Enter length 5\n",
            "Enter Breadth 6\n",
            "5\n",
            "6\n",
            "The area of rectangle\n",
            "30\n"
          ]
        }
      ]
    },
    {
      "cell_type": "markdown",
      "source": [
        "Q4)"
      ],
      "metadata": {
        "id": "YvWE1Enmx3uG"
      }
    },
    {
      "cell_type": "code",
      "source": [
        "class Address:\n",
        "  number='None'\n",
        "  street_name='None'\n",
        "\n",
        "  def __init__(self,number,street_name):\n",
        "    self.number=number\n",
        "    self.street_name=street_name\n",
        "  def show_details(self):\n",
        "    print(\"Your street number\",self.number)\n",
        "    print(\"Your house number\",self.street_name)"
      ],
      "metadata": {
        "id": "iOi-PS1dxMWq"
      },
      "execution_count": 23,
      "outputs": []
    },
    {
      "cell_type": "code",
      "source": [
        "a=Address(\"C-173\",\"Bits Pilani Goa\")\n",
        "a.show_details()"
      ],
      "metadata": {
        "colab": {
          "base_uri": "https://localhost:8080/"
        },
        "id": "GPaVW00GyfaK",
        "outputId": "0ffb1adb-45ac-4402-b92c-15f73052bf66"
      },
      "execution_count": 24,
      "outputs": [
        {
          "output_type": "stream",
          "name": "stdout",
          "text": [
            "Your street number C-173\n",
            "Your house number Bits Pilani Goa\n"
          ]
        }
      ]
    },
    {
      "cell_type": "markdown",
      "source": [
        "Q 9)"
      ],
      "metadata": {
        "id": "9I6LEeDP1s5P"
      }
    },
    {
      "cell_type": "code",
      "source": [
        "class Test:\n",
        "  x='None'\n",
        "  def __init__(self):\n",
        "    self.x=1\n",
        "  def x_value(self):\n",
        "    self.x=10\n",
        "class Test_derived(Test):\n",
        "  def x_value(self):\n",
        "    self.x=self.x+1\n",
        "    return self.x\n",
        "  \n",
        "  "
      ],
      "metadata": {
        "id": "J9zlgXNcznfH"
      },
      "execution_count": 55,
      "outputs": []
    },
    {
      "cell_type": "code",
      "source": [
        "def main():\n",
        "  obj =Test_derived()\n",
        "  print(obj.x_value(1))"
      ],
      "metadata": {
        "id": "ecbqxWKp6bZE"
      },
      "execution_count": 58,
      "outputs": []
    },
    {
      "cell_type": "markdown",
      "source": [
        "No output"
      ],
      "metadata": {
        "id": "qEzTRtbP657L"
      }
    },
    {
      "cell_type": "code",
      "source": [],
      "metadata": {
        "id": "L7QPvOeY37pV"
      },
      "execution_count": 54,
      "outputs": []
    }
  ]
}