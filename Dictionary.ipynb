{
  "nbformat": 4,
  "nbformat_minor": 0,
  "metadata": {
    "colab": {
      "name": "Dictionary.ipynb",
      "provenance": [],
      "collapsed_sections": [],
      "authorship_tag": "ABX9TyOBGQpTYVnRX0BzYUO4yHuX",
      "include_colab_link": true
    },
    "kernelspec": {
      "name": "python3",
      "display_name": "Python 3"
    },
    "language_info": {
      "name": "python"
    }
  },
  "cells": [
    {
      "cell_type": "markdown",
      "metadata": {
        "id": "view-in-github",
        "colab_type": "text"
      },
      "source": [
        "<a href=\"https://colab.research.google.com/github/abhinavdey1920/code-repo/blob/main/Dictionary.ipynb\" target=\"_parent\"><img src=\"https://colab.research.google.com/assets/colab-badge.svg\" alt=\"Open In Colab\"/></a>"
      ]
    },
    {
      "cell_type": "code",
      "execution_count": 1,
      "metadata": {
        "id": "uZqTY5NGMG1m"
      },
      "outputs": [],
      "source": [
        "d={\"University\":[\"IIT\",\"NIT\",\"VIT\"],\"Subjects\":[\"CSE\",\"ECE\"]}"
      ]
    },
    {
      "cell_type": "code",
      "source": [
        "d"
      ],
      "metadata": {
        "colab": {
          "base_uri": "https://localhost:8080/"
        },
        "id": "kq8fzJhCMwVo",
        "outputId": "9300fc11-b6f4-4a4d-bea2-4ff3755fe9a2"
      },
      "execution_count": 2,
      "outputs": [
        {
          "output_type": "execute_result",
          "data": {
            "text/plain": [
              "{'Subjects': ['CSE', 'ECE'], 'University': ['IIT', 'NIT', 'VIT']}"
            ]
          },
          "metadata": {},
          "execution_count": 2
        }
      ]
    },
    {
      "cell_type": "code",
      "source": [
        "d[\"University\"]"
      ],
      "metadata": {
        "colab": {
          "base_uri": "https://localhost:8080/"
        },
        "id": "fli4vFFaMxTw",
        "outputId": "2f851b4b-7e70-4ba4-e242-314f06694c73"
      },
      "execution_count": 4,
      "outputs": [
        {
          "output_type": "execute_result",
          "data": {
            "text/plain": [
              "['IIT', 'NIT', 'VIT']"
            ]
          },
          "metadata": {},
          "execution_count": 4
        }
      ]
    },
    {
      "cell_type": "code",
      "source": [
        "\"IIT\" in d"
      ],
      "metadata": {
        "colab": {
          "base_uri": "https://localhost:8080/"
        },
        "id": "Cjq0-10CM4zK",
        "outputId": "6a964468-b570-476b-88f5-4390d339ed98"
      },
      "execution_count": 5,
      "outputs": [
        {
          "output_type": "execute_result",
          "data": {
            "text/plain": [
              "False"
            ]
          },
          "metadata": {},
          "execution_count": 5
        }
      ]
    },
    {
      "cell_type": "code",
      "source": [
        "\"University\" in d"
      ],
      "metadata": {
        "colab": {
          "base_uri": "https://localhost:8080/"
        },
        "id": "vMB8XMgxNJ7f",
        "outputId": "a8017674-e602-4e46-bd54-4c5651e42252"
      },
      "execution_count": 6,
      "outputs": [
        {
          "output_type": "execute_result",
          "data": {
            "text/plain": [
              "True"
            ]
          },
          "metadata": {},
          "execution_count": 6
        }
      ]
    },
    {
      "cell_type": "markdown",
      "source": [
        "Inbuilt method on Dictionary"
      ],
      "metadata": {
        "id": "OmMXBuOnNRL2"
      }
    },
    {
      "cell_type": "markdown",
      "source": [
        "Copy Function()- doesnot create alias , both d,d1 are of diffrent memory location"
      ],
      "metadata": {
        "id": "2d1vT5ILOtDL"
      }
    },
    {
      "cell_type": "code",
      "source": [
        "d1=d.copy()"
      ],
      "metadata": {
        "id": "iwXs24AJNOGl"
      },
      "execution_count": 7,
      "outputs": []
    },
    {
      "cell_type": "code",
      "source": [
        "d1"
      ],
      "metadata": {
        "colab": {
          "base_uri": "https://localhost:8080/"
        },
        "id": "5-gkk7LpOEd1",
        "outputId": "7c0e7fef-48ef-4856-f3ad-d36145da7b54"
      },
      "execution_count": 8,
      "outputs": [
        {
          "output_type": "execute_result",
          "data": {
            "text/plain": [
              "{'Subjects': ['CSE', 'ECE'], 'University': ['IIT', 'NIT', 'VIT']}"
            ]
          },
          "metadata": {},
          "execution_count": 8
        }
      ]
    },
    {
      "cell_type": "code",
      "source": [
        "id(d)"
      ],
      "metadata": {
        "colab": {
          "base_uri": "https://localhost:8080/"
        },
        "id": "1bShnaSeOFw7",
        "outputId": "47fec4c6-a63e-4c06-84cc-5559244d222c"
      },
      "execution_count": 9,
      "outputs": [
        {
          "output_type": "execute_result",
          "data": {
            "text/plain": [
              "140184733829152"
            ]
          },
          "metadata": {},
          "execution_count": 9
        }
      ]
    },
    {
      "cell_type": "code",
      "source": [
        "id(d1)"
      ],
      "metadata": {
        "colab": {
          "base_uri": "https://localhost:8080/"
        },
        "id": "8dwzW0dDOYvY",
        "outputId": "0f150f23-d286-4f3a-8ab5-60b37bc30a14"
      },
      "execution_count": 10,
      "outputs": [
        {
          "output_type": "execute_result",
          "data": {
            "text/plain": [
              "140184546633840"
            ]
          },
          "metadata": {},
          "execution_count": 10
        }
      ]
    },
    {
      "cell_type": "markdown",
      "source": [
        "Aliasing method "
      ],
      "metadata": {
        "id": "HMMkNjhsO4ZX"
      }
    },
    {
      "cell_type": "code",
      "source": [
        "d2=d"
      ],
      "metadata": {
        "id": "Vv1Ad9t9OamH"
      },
      "execution_count": 11,
      "outputs": []
    },
    {
      "cell_type": "code",
      "source": [
        "d2"
      ],
      "metadata": {
        "colab": {
          "base_uri": "https://localhost:8080/"
        },
        "id": "szMKc8MxO8Qc",
        "outputId": "83b026f4-1286-4938-c7de-2689114c9dc7"
      },
      "execution_count": 12,
      "outputs": [
        {
          "output_type": "execute_result",
          "data": {
            "text/plain": [
              "{'Subjects': ['CSE', 'ECE'], 'University': ['IIT', 'NIT', 'VIT']}"
            ]
          },
          "metadata": {},
          "execution_count": 12
        }
      ]
    },
    {
      "cell_type": "markdown",
      "source": [
        "Copy Method is used to do clonning and copy creates alias "
      ],
      "metadata": {
        "id": "Mk51SO4aPBRT"
      }
    },
    {
      "cell_type": "markdown",
      "source": [
        "To get items "
      ],
      "metadata": {
        "id": "mqbJGq4gPWLz"
      }
    },
    {
      "cell_type": "code",
      "source": [
        "d.items()"
      ],
      "metadata": {
        "colab": {
          "base_uri": "https://localhost:8080/"
        },
        "id": "3HtPd0phO9Im",
        "outputId": "502852f3-ca4a-4929-9ae0-c8cf55225ddd"
      },
      "execution_count": 13,
      "outputs": [
        {
          "output_type": "execute_result",
          "data": {
            "text/plain": [
              "dict_items([('University', ['IIT', 'NIT', 'VIT']), ('Subjects', ['CSE', 'ECE'])])"
            ]
          },
          "metadata": {},
          "execution_count": 13
        }
      ]
    },
    {
      "cell_type": "markdown",
      "source": [
        "To get keys of dictionary"
      ],
      "metadata": {
        "id": "Gny1OXiPPqb7"
      }
    },
    {
      "cell_type": "code",
      "source": [
        "d.keys()"
      ],
      "metadata": {
        "colab": {
          "base_uri": "https://localhost:8080/"
        },
        "id": "Qb4UgbgxPdFP",
        "outputId": "8ecc2b39-7120-4615-9a36-4000062b10ec"
      },
      "execution_count": 14,
      "outputs": [
        {
          "output_type": "execute_result",
          "data": {
            "text/plain": [
              "dict_keys(['University', 'Subjects'])"
            ]
          },
          "metadata": {},
          "execution_count": 14
        }
      ]
    },
    {
      "cell_type": "markdown",
      "source": [
        "Pop operation"
      ],
      "metadata": {
        "id": "VCTw9OfmPtjJ"
      }
    },
    {
      "cell_type": "code",
      "source": [
        "d3={1:\"human\",2:\"animals\",3:\"plants\"}\n",
        "d3.pop(2)"
      ],
      "metadata": {
        "colab": {
          "base_uri": "https://localhost:8080/",
          "height": 35
        },
        "id": "1A6VRfNOPiLZ",
        "outputId": "964511bc-5b7f-42b9-b43d-7449cc45dc42"
      },
      "execution_count": 15,
      "outputs": [
        {
          "output_type": "execute_result",
          "data": {
            "text/plain": [
              "'animals'"
            ],
            "application/vnd.google.colaboratory.intrinsic+json": {
              "type": "string"
            }
          },
          "metadata": {},
          "execution_count": 15
        }
      ]
    },
    {
      "cell_type": "code",
      "source": [
        "d3"
      ],
      "metadata": {
        "colab": {
          "base_uri": "https://localhost:8080/"
        },
        "id": "tLCVLyDsQDgm",
        "outputId": "d05a147f-39cf-4c73-bc1a-750d744cb278"
      },
      "execution_count": 16,
      "outputs": [
        {
          "output_type": "execute_result",
          "data": {
            "text/plain": [
              "{1: 'human', 3: 'plants'}"
            ]
          },
          "metadata": {},
          "execution_count": 16
        }
      ]
    },
    {
      "cell_type": "code",
      "source": [
        "d3[2]=\"solid\""
      ],
      "metadata": {
        "id": "qexrtacIQEFY"
      },
      "execution_count": 18,
      "outputs": []
    },
    {
      "cell_type": "code",
      "source": [
        "d3"
      ],
      "metadata": {
        "colab": {
          "base_uri": "https://localhost:8080/"
        },
        "id": "hUIJ0cNuQTqf",
        "outputId": "d51b5126-4815-4a28-9d1c-77acd3bd73a2"
      },
      "execution_count": 19,
      "outputs": [
        {
          "output_type": "execute_result",
          "data": {
            "text/plain": [
              "{1: 'human', 2: 'solid', 3: 'plants'}"
            ]
          },
          "metadata": {},
          "execution_count": 19
        }
      ]
    },
    {
      "cell_type": "markdown",
      "source": [
        "when you wish to delete more than one element in a dictionary\n",
        "1) create a list of keys we want to delete"
      ],
      "metadata": {
        "id": "5U8wr1t9Q5YM"
      }
    },
    {
      "cell_type": "code",
      "source": [
        "rem=[2,3]"
      ],
      "metadata": {
        "id": "4FWBGmQ0QfcY"
      },
      "execution_count": 20,
      "outputs": []
    },
    {
      "cell_type": "markdown",
      "source": [
        "Put that list in for loop"
      ],
      "metadata": {
        "id": "x_T0aQfcRHCS"
      }
    },
    {
      "cell_type": "code",
      "source": [
        "for i in rem:\n",
        "  d3.pop(i)"
      ],
      "metadata": {
        "id": "BmBdtoCtQlL2"
      },
      "execution_count": 21,
      "outputs": []
    },
    {
      "cell_type": "code",
      "source": [
        "d3"
      ],
      "metadata": {
        "colab": {
          "base_uri": "https://localhost:8080/"
        },
        "id": "elU9O_94Qreg",
        "outputId": "5512b2ad-0c54-4aef-f3c4-3f2f5836eb22"
      },
      "execution_count": 22,
      "outputs": [
        {
          "output_type": "execute_result",
          "data": {
            "text/plain": [
              "{1: 'human'}"
            ]
          },
          "metadata": {},
          "execution_count": 22
        }
      ]
    },
    {
      "cell_type": "markdown",
      "source": [
        "Set default() - adds the value to key which doesnot contain any value and displays the value of the key which aldready contains value "
      ],
      "metadata": {
        "id": "7aJd5rgjRMJd"
      }
    },
    {
      "cell_type": "code",
      "source": [
        "d3.setdefault(2,\"animals\")"
      ],
      "metadata": {
        "colab": {
          "base_uri": "https://localhost:8080/",
          "height": 35
        },
        "id": "4_OnVqmOQs1O",
        "outputId": "7e3f0962-c877-48e4-a845-c78e014ed013"
      },
      "execution_count": 23,
      "outputs": [
        {
          "output_type": "execute_result",
          "data": {
            "text/plain": [
              "'animals'"
            ],
            "application/vnd.google.colaboratory.intrinsic+json": {
              "type": "string"
            }
          },
          "metadata": {},
          "execution_count": 23
        }
      ]
    },
    {
      "cell_type": "code",
      "source": [
        "d3"
      ],
      "metadata": {
        "colab": {
          "base_uri": "https://localhost:8080/"
        },
        "id": "B5yiqTjaRgJu",
        "outputId": "44c6686d-977d-4c15-be5f-cbad79afaf60"
      },
      "execution_count": 24,
      "outputs": [
        {
          "output_type": "execute_result",
          "data": {
            "text/plain": [
              "{1: 'human', 2: 'animals'}"
            ]
          },
          "metadata": {},
          "execution_count": 24
        }
      ]
    },
    {
      "cell_type": "code",
      "source": [
        "d3.setdefault(1)"
      ],
      "metadata": {
        "colab": {
          "base_uri": "https://localhost:8080/",
          "height": 35
        },
        "id": "SSA3uURARhOv",
        "outputId": "c8aa99d0-e853-4e38-d8d0-2c19f80ffcc2"
      },
      "execution_count": 26,
      "outputs": [
        {
          "output_type": "execute_result",
          "data": {
            "text/plain": [
              "'human'"
            ],
            "application/vnd.google.colaboratory.intrinsic+json": {
              "type": "string"
            }
          },
          "metadata": {},
          "execution_count": 26
        }
      ]
    },
    {
      "cell_type": "markdown",
      "source": [
        "Update()"
      ],
      "metadata": {
        "id": "ZIyjy9D1SM9t"
      }
    },
    {
      "cell_type": "code",
      "source": [
        "d3.update(d2)"
      ],
      "metadata": {
        "id": "slmD5BFTRl8L"
      },
      "execution_count": 27,
      "outputs": []
    },
    {
      "cell_type": "code",
      "source": [
        "d3"
      ],
      "metadata": {
        "colab": {
          "base_uri": "https://localhost:8080/"
        },
        "id": "jC06-rmKSJdW",
        "outputId": "e8b5e5c2-1f0d-4bd7-deb1-7499478aeb5b"
      },
      "execution_count": 28,
      "outputs": [
        {
          "output_type": "execute_result",
          "data": {
            "text/plain": [
              "{1: 'human',\n",
              " 2: 'solid',\n",
              " 'Subjects': ['CSE', 'ECE'],\n",
              " 'University': ['IIT', 'NIT', 'VIT']}"
            ]
          },
          "metadata": {},
          "execution_count": 28
        }
      ]
    },
    {
      "cell_type": "markdown",
      "source": [
        "from()"
      ],
      "metadata": {
        "id": "eNEGQUC1SPh9"
      }
    },
    {
      "cell_type": "code",
      "source": [
        "Keys={1,2,3,4,5}\n",
        "value={'a','b','c','d','e'}"
      ],
      "metadata": {
        "id": "Ngl61_hUSKuZ"
      },
      "execution_count": 30,
      "outputs": []
    },
    {
      "cell_type": "code",
      "source": [
        "d5=d.fromkeys(Keys,value)\n",
        "d5"
      ],
      "metadata": {
        "colab": {
          "base_uri": "https://localhost:8080/"
        },
        "id": "qDcqM2ppStzy",
        "outputId": "e5b03a20-7486-4260-a159-8575c73238fa"
      },
      "execution_count": 31,
      "outputs": [
        {
          "output_type": "execute_result",
          "data": {
            "text/plain": [
              "{1: {'a', 'b', 'c', 'd', 'e'},\n",
              " 2: {'a', 'b', 'c', 'd', 'e'},\n",
              " 3: {'a', 'b', 'c', 'd', 'e'},\n",
              " 4: {'a', 'b', 'c', 'd', 'e'},\n",
              " 5: {'a', 'b', 'c', 'd', 'e'}}"
            ]
          },
          "metadata": {},
          "execution_count": 31
        }
      ]
    },
    {
      "cell_type": "markdown",
      "source": [
        "Clear()- removes all elelments in dictionary"
      ],
      "metadata": {
        "id": "ADCG3038T5lk"
      }
    },
    {
      "cell_type": "code",
      "source": [
        "d5.clear()"
      ],
      "metadata": {
        "id": "owLYKKVjTE8G"
      },
      "execution_count": 35,
      "outputs": []
    },
    {
      "cell_type": "code",
      "source": [
        "d5"
      ],
      "metadata": {
        "colab": {
          "base_uri": "https://localhost:8080/"
        },
        "id": "zuhf8quXUCGa",
        "outputId": "599483fb-c7fb-4167-cadb-968849baa321"
      },
      "execution_count": 36,
      "outputs": [
        {
          "output_type": "execute_result",
          "data": {
            "text/plain": [
              "{}"
            ]
          },
          "metadata": {},
          "execution_count": 36
        }
      ]
    },
    {
      "cell_type": "markdown",
      "source": [
        "Delete()-deletes the dictionary"
      ],
      "metadata": {
        "id": "iaLwSHFHUE8J"
      }
    },
    {
      "cell_type": "code",
      "source": [
        "del(d5)"
      ],
      "metadata": {
        "id": "Fsr-dNEtUDWY"
      },
      "execution_count": 37,
      "outputs": []
    },
    {
      "cell_type": "markdown",
      "source": [
        "Converting a dictionary into a list conatining key-value tupple"
      ],
      "metadata": {
        "id": "OgD29oUHUNH-"
      }
    },
    {
      "cell_type": "code",
      "source": [
        "t=[(key,value)for key,value in d3.items()]\n",
        "t"
      ],
      "metadata": {
        "colab": {
          "base_uri": "https://localhost:8080/"
        },
        "id": "zupLpZXeUL4Q",
        "outputId": "333f6a61-83cd-43ce-fdf3-878001c190d8"
      },
      "execution_count": 38,
      "outputs": [
        {
          "output_type": "execute_result",
          "data": {
            "text/plain": [
              "[(1, 'human'),\n",
              " (2, 'solid'),\n",
              " ('University', ['IIT', 'NIT', 'VIT']),\n",
              " ('Subjects', ['CSE', 'ECE'])]"
            ]
          },
          "metadata": {},
          "execution_count": 38
        }
      ]
    },
    {
      "cell_type": "code",
      "source": [
        "d3.items()"
      ],
      "metadata": {
        "colab": {
          "base_uri": "https://localhost:8080/"
        },
        "id": "nVJ-yUW0VNUd",
        "outputId": "f6d51dc6-220e-42b3-98ff-cbe778f2999f"
      },
      "execution_count": 39,
      "outputs": [
        {
          "output_type": "execute_result",
          "data": {
            "text/plain": [
              "dict_items([(1, 'human'), (2, 'solid'), ('University', ['IIT', 'NIT', 'VIT']), ('Subjects', ['CSE', 'ECE'])])"
            ]
          },
          "metadata": {},
          "execution_count": 39
        }
      ]
    },
    {
      "cell_type": "code",
      "source": [
        "type(d3)"
      ],
      "metadata": {
        "colab": {
          "base_uri": "https://localhost:8080/"
        },
        "id": "2EW0P4ICVlEM",
        "outputId": "643e6c38-9f11-4cac-f6ec-93648a361ba5"
      },
      "execution_count": 40,
      "outputs": [
        {
          "output_type": "execute_result",
          "data": {
            "text/plain": [
              "dict"
            ]
          },
          "metadata": {},
          "execution_count": 40
        }
      ]
    },
    {
      "cell_type": "code",
      "source": [
        "type(t)"
      ],
      "metadata": {
        "colab": {
          "base_uri": "https://localhost:8080/"
        },
        "id": "Rewl7pw_Vxeg",
        "outputId": "d6ba4741-9575-4858-eeba-2785f33e1fde"
      },
      "execution_count": 41,
      "outputs": [
        {
          "output_type": "execute_result",
          "data": {
            "text/plain": [
              "list"
            ]
          },
          "metadata": {},
          "execution_count": 41
        }
      ]
    },
    {
      "cell_type": "markdown",
      "source": [
        "converting a list into dictionary"
      ],
      "metadata": {
        "id": "flD2ouu5V82v"
      }
    },
    {
      "cell_type": "code",
      "source": [
        "d6=dict(t)"
      ],
      "metadata": {
        "id": "mboKJbzoV3c5"
      },
      "execution_count": 42,
      "outputs": []
    },
    {
      "cell_type": "code",
      "source": [
        "d6"
      ],
      "metadata": {
        "colab": {
          "base_uri": "https://localhost:8080/"
        },
        "id": "RRUq7anAWEia",
        "outputId": "04f1e3cf-8e7f-481b-fe88-0d56374fe940"
      },
      "execution_count": 43,
      "outputs": [
        {
          "output_type": "execute_result",
          "data": {
            "text/plain": [
              "{1: 'human',\n",
              " 2: 'solid',\n",
              " 'Subjects': ['CSE', 'ECE'],\n",
              " 'University': ['IIT', 'NIT', 'VIT']}"
            ]
          },
          "metadata": {},
          "execution_count": 43
        }
      ]
    },
    {
      "cell_type": "code",
      "source": [
        "type(d6)"
      ],
      "metadata": {
        "colab": {
          "base_uri": "https://localhost:8080/"
        },
        "id": "zHrXeEejWGlZ",
        "outputId": "c4b32b7d-e332-40e6-913b-2d355548b9ff"
      },
      "execution_count": 44,
      "outputs": [
        {
          "output_type": "execute_result",
          "data": {
            "text/plain": [
              "dict"
            ]
          },
          "metadata": {},
          "execution_count": 44
        }
      ]
    },
    {
      "cell_type": "markdown",
      "source": [
        "Considering tupple as key of dictionary"
      ],
      "metadata": {
        "id": "-E9KIzVnWKl_"
      }
    },
    {
      "cell_type": "code",
      "source": [
        "d7={(1,2):\"Abhinav\",(3,4):\"Anubhav\"}"
      ],
      "metadata": {
        "id": "7q6qih3yWIxz"
      },
      "execution_count": 45,
      "outputs": []
    },
    {
      "cell_type": "code",
      "source": [
        "d7.keys()"
      ],
      "metadata": {
        "colab": {
          "base_uri": "https://localhost:8080/"
        },
        "id": "-JwWNLNRWi-c",
        "outputId": "54b7828d-063a-469d-cdb4-6f8796cfaefb"
      },
      "execution_count": 46,
      "outputs": [
        {
          "output_type": "execute_result",
          "data": {
            "text/plain": [
              "dict_keys([(1, 2), (3, 4)])"
            ]
          },
          "metadata": {},
          "execution_count": 46
        }
      ]
    },
    {
      "cell_type": "code",
      "source": [
        "tup=[x for dickeys in d7 for x in dickeys]\n",
        "tup"
      ],
      "metadata": {
        "colab": {
          "base_uri": "https://localhost:8080/"
        },
        "id": "VT7ysdhVWlpK",
        "outputId": "cd610db5-4b88-4742-8bdf-a3450c8379ed"
      },
      "execution_count": 51,
      "outputs": [
        {
          "output_type": "execute_result",
          "data": {
            "text/plain": [
              "[1, 2, 3, 4]"
            ]
          },
          "metadata": {},
          "execution_count": 51
        }
      ]
    },
    {
      "cell_type": "code",
      "source": [
        "type(tup)"
      ],
      "metadata": {
        "colab": {
          "base_uri": "https://localhost:8080/"
        },
        "id": "3lpKioO9YC4U",
        "outputId": "1ddf9f32-7056-47d2-db88-f0b553202e16"
      },
      "execution_count": 48,
      "outputs": [
        {
          "output_type": "execute_result",
          "data": {
            "text/plain": [
              "list"
            ]
          },
          "metadata": {},
          "execution_count": 48
        }
      ]
    },
    {
      "cell_type": "markdown",
      "source": [
        "Passing list as an arguement in a function is equavalent to passing its refernece "
      ],
      "metadata": {
        "id": "sdxioEO_ZEpR"
      }
    },
    {
      "cell_type": "code",
      "source": [
        "def remove(l):\n",
        "  l.remove(2)"
      ],
      "metadata": {
        "id": "GJg6CYGcYiO2"
      },
      "execution_count": 52,
      "outputs": []
    },
    {
      "cell_type": "code",
      "source": [
        "l=[1,2,3,4,5]\n",
        "remove(l)\n",
        "print(l)"
      ],
      "metadata": {
        "colab": {
          "base_uri": "https://localhost:8080/"
        },
        "id": "Pa45p8YxY4Fc",
        "outputId": "fb22190b-c8ee-4db8-ccb9-3f2745678fef"
      },
      "execution_count": 54,
      "outputs": [
        {
          "output_type": "stream",
          "name": "stdout",
          "text": [
            "[1, 3, 4, 5]\n"
          ]
        }
      ]
    },
    {
      "cell_type": "markdown",
      "source": [
        "Aliasing is happening when you are passing an list as an arguement , you are not creating a copy "
      ],
      "metadata": {
        "id": "ixx6l6IWZdnW"
      }
    },
    {
      "cell_type": "code",
      "source": [
        "def remove(l3):\n",
        "  l3.remove(4)"
      ],
      "metadata": {
        "id": "3qiGogKXZCR7"
      },
      "execution_count": 55,
      "outputs": []
    },
    {
      "cell_type": "code",
      "source": [
        "l5={1,2,3,4,5,6,7}\n",
        "remove(l5)\n",
        "print(l5)"
      ],
      "metadata": {
        "colab": {
          "base_uri": "https://localhost:8080/"
        },
        "id": "tcTyWRtzZoaY",
        "outputId": "825f15c2-1864-4d59-9613-08c038a97212"
      },
      "execution_count": 56,
      "outputs": [
        {
          "output_type": "stream",
          "name": "stdout",
          "text": [
            "{1, 2, 3, 5, 6, 7}\n"
          ]
        }
      ]
    }
  ]
}