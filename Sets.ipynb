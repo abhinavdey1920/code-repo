{
  "nbformat": 4,
  "nbformat_minor": 0,
  "metadata": {
    "colab": {
      "name": "Sets.ipynb",
      "provenance": [],
      "collapsed_sections": [],
      "authorship_tag": "ABX9TyPqxzHObw9JUqnFkzhOHOaR",
      "include_colab_link": true
    },
    "kernelspec": {
      "name": "python3",
      "display_name": "Python 3"
    },
    "language_info": {
      "name": "python"
    }
  },
  "cells": [
    {
      "cell_type": "markdown",
      "metadata": {
        "id": "view-in-github",
        "colab_type": "text"
      },
      "source": [
        "<a href=\"https://colab.research.google.com/github/abhinavdey1920/code-repo/blob/main/Sets.ipynb\" target=\"_parent\"><img src=\"https://colab.research.google.com/assets/colab-badge.svg\" alt=\"Open In Colab\"/></a>"
      ]
    },
    {
      "cell_type": "markdown",
      "source": [
        "Sets:- collection of distinct elements in an urodered fashion"
      ],
      "metadata": {
        "id": "O6H6cwmfeKiH"
      }
    },
    {
      "cell_type": "code",
      "execution_count": 1,
      "metadata": {
        "id": "tsa4_kxMd5pe"
      },
      "outputs": [],
      "source": [
        "set1=set()"
      ]
    },
    {
      "cell_type": "markdown",
      "source": [
        "Initialisation the set\n",
        "1) using set function"
      ],
      "metadata": {
        "id": "AyCJS3Ztg8rR"
      }
    },
    {
      "cell_type": "code",
      "source": [
        "a=set(['a','a','b','d'])\n",
        "a"
      ],
      "metadata": {
        "colab": {
          "base_uri": "https://localhost:8080/"
        },
        "id": "UnfsAFZtg13u",
        "outputId": "87186697-6f43-491f-8acd-c9623c1b5e92"
      },
      "execution_count": 3,
      "outputs": [
        {
          "output_type": "execute_result",
          "data": {
            "text/plain": [
              "{'a', 'b', 'd'}"
            ]
          },
          "metadata": {},
          "execution_count": 3
        }
      ]
    },
    {
      "cell_type": "markdown",
      "source": [
        "2) using {} brackets"
      ],
      "metadata": {
        "id": "RT7cpu64hKU-"
      }
    },
    {
      "cell_type": "code",
      "source": [
        "x={1,4,2,6}\n",
        "type(x)"
      ],
      "metadata": {
        "colab": {
          "base_uri": "https://localhost:8080/"
        },
        "id": "UR5_zny4hOdr",
        "outputId": "391d1b4a-f2ad-4da3-d49b-26145a5ed82c"
      },
      "execution_count": 4,
      "outputs": [
        {
          "output_type": "execute_result",
          "data": {
            "text/plain": [
              "set"
            ]
          },
          "metadata": {},
          "execution_count": 4
        }
      ]
    },
    {
      "cell_type": "markdown",
      "source": [
        "Q:- creating empty set\n",
        "1) using {} bracket"
      ],
      "metadata": {
        "id": "RjPq5dQ0hhNT"
      }
    },
    {
      "cell_type": "code",
      "source": [
        "y={}\n",
        "type(y)"
      ],
      "metadata": {
        "colab": {
          "base_uri": "https://localhost:8080/"
        },
        "id": "41ntyO8mhTW7",
        "outputId": "4162ec55-29d8-4f19-8d8f-01f94c49257c"
      },
      "execution_count": 5,
      "outputs": [
        {
          "output_type": "execute_result",
          "data": {
            "text/plain": [
              "dict"
            ]
          },
          "metadata": {},
          "execution_count": 5
        }
      ]
    },
    {
      "cell_type": "markdown",
      "source": [
        "Therfore we cant create empty set using {}, so we use set functions  "
      ],
      "metadata": {
        "id": "NtIocWyrhrtf"
      }
    },
    {
      "cell_type": "code",
      "source": [
        "z=set()\n",
        "type(z)"
      ],
      "metadata": {
        "colab": {
          "base_uri": "https://localhost:8080/"
        },
        "id": "6LwlhCNphqcS",
        "outputId": "15fd8cd8-f5c4-404e-eee8-de7cfa9c0014"
      },
      "execution_count": 6,
      "outputs": [
        {
          "output_type": "execute_result",
          "data": {
            "text/plain": [
              "set"
            ]
          },
          "metadata": {},
          "execution_count": 6
        }
      ]
    },
    {
      "cell_type": "markdown",
      "source": [
        "Adding elements in a set"
      ],
      "metadata": {
        "id": "JUKH18Soh6uY"
      }
    },
    {
      "cell_type": "code",
      "source": [
        "x.add(7)\n",
        "x"
      ],
      "metadata": {
        "colab": {
          "base_uri": "https://localhost:8080/"
        },
        "id": "cKUBRq0yh3hY",
        "outputId": "6c0534fc-7946-4706-9a07-33f7028538fc"
      },
      "execution_count": 7,
      "outputs": [
        {
          "output_type": "execute_result",
          "data": {
            "text/plain": [
              "{1, 2, 4, 6, 7}"
            ]
          },
          "metadata": {},
          "execution_count": 7
        }
      ]
    },
    {
      "cell_type": "markdown",
      "source": [
        "Adding list in a set"
      ],
      "metadata": {
        "id": "CPOeMaMHiNCV"
      }
    },
    {
      "cell_type": "code",
      "source": [
        "x.add(['q','w'])"
      ],
      "metadata": {
        "colab": {
          "base_uri": "https://localhost:8080/",
          "height": 166
        },
        "id": "y3w5CMFBiA9O",
        "outputId": "e1c4861f-6da7-4824-c5de-6ea861686de3"
      },
      "execution_count": 8,
      "outputs": [
        {
          "output_type": "error",
          "ename": "TypeError",
          "evalue": "ignored",
          "traceback": [
            "\u001b[0;31m---------------------------------------------------------------------------\u001b[0m",
            "\u001b[0;31mTypeError\u001b[0m                                 Traceback (most recent call last)",
            "\u001b[0;32m<ipython-input-8-d7bfa56ee034>\u001b[0m in \u001b[0;36m<module>\u001b[0;34m()\u001b[0m\n\u001b[0;32m----> 1\u001b[0;31m \u001b[0mx\u001b[0m\u001b[0;34m.\u001b[0m\u001b[0madd\u001b[0m\u001b[0;34m(\u001b[0m\u001b[0;34m[\u001b[0m\u001b[0;34m'q'\u001b[0m\u001b[0;34m,\u001b[0m\u001b[0;34m'w'\u001b[0m\u001b[0;34m]\u001b[0m\u001b[0;34m)\u001b[0m\u001b[0;34m\u001b[0m\u001b[0;34m\u001b[0m\u001b[0m\n\u001b[0m",
            "\u001b[0;31mTypeError\u001b[0m: unhashable type: 'list'"
          ]
        }
      ]
    },
    {
      "cell_type": "markdown",
      "source": [
        "Reason for error:- we cannot add immutable datas tructure like list into the set but you can add mutable data structure like tupple"
      ],
      "metadata": {
        "id": "4vRKRHhAiWla"
      }
    },
    {
      "cell_type": "markdown",
      "source": [
        "Remove Method() in set"
      ],
      "metadata": {
        "id": "1Q2o004oikwv"
      }
    },
    {
      "cell_type": "code",
      "source": [
        "x.remove(4)"
      ],
      "metadata": {
        "id": "aeCaJKoGiodB"
      },
      "execution_count": 9,
      "outputs": []
    },
    {
      "cell_type": "code",
      "source": [
        "x"
      ],
      "metadata": {
        "colab": {
          "base_uri": "https://localhost:8080/"
        },
        "id": "i4Ip1aOJitiS",
        "outputId": "90b7718a-d36e-4b85-ee17-b0bab5e0f335"
      },
      "execution_count": 10,
      "outputs": [
        {
          "output_type": "execute_result",
          "data": {
            "text/plain": [
              "{1, 2, 6, 7}"
            ]
          },
          "metadata": {},
          "execution_count": 10
        }
      ]
    },
    {
      "cell_type": "markdown",
      "source": [
        "Drawback in remove() - if you remove that element that is not present in set you get a key error\n",
        "Therefore you can remove only those elements in the set "
      ],
      "metadata": {
        "id": "jQ-U7krhiypv"
      }
    },
    {
      "cell_type": "code",
      "source": [
        "x.remove(8)"
      ],
      "metadata": {
        "colab": {
          "base_uri": "https://localhost:8080/",
          "height": 166
        },
        "id": "WvnHUZBWiu-_",
        "outputId": "6239d19e-c400-43b8-e02f-727a828da761"
      },
      "execution_count": 11,
      "outputs": [
        {
          "output_type": "error",
          "ename": "KeyError",
          "evalue": "ignored",
          "traceback": [
            "\u001b[0;31m---------------------------------------------------------------------------\u001b[0m",
            "\u001b[0;31mKeyError\u001b[0m                                  Traceback (most recent call last)",
            "\u001b[0;32m<ipython-input-11-0e92485732cc>\u001b[0m in \u001b[0;36m<module>\u001b[0;34m()\u001b[0m\n\u001b[0;32m----> 1\u001b[0;31m \u001b[0mx\u001b[0m\u001b[0;34m.\u001b[0m\u001b[0mremove\u001b[0m\u001b[0;34m(\u001b[0m\u001b[0;36m8\u001b[0m\u001b[0;34m)\u001b[0m\u001b[0;34m\u001b[0m\u001b[0;34m\u001b[0m\u001b[0m\n\u001b[0m",
            "\u001b[0;31mKeyError\u001b[0m: 8"
          ]
        }
      ]
    },
    {
      "cell_type": "markdown",
      "source": [
        "Discard() function \n",
        "Advantage: - if you remove elelment that doesnot exist you will not get any error"
      ],
      "metadata": {
        "id": "9Duggx0hjQQ_"
      }
    },
    {
      "cell_type": "code",
      "source": [
        "x.discard(8)"
      ],
      "metadata": {
        "id": "u2TNB6stjOWv"
      },
      "execution_count": 12,
      "outputs": []
    },
    {
      "cell_type": "markdown",
      "source": [
        "No error in above code "
      ],
      "metadata": {
        "id": "4hH1t3LXjge3"
      }
    },
    {
      "cell_type": "markdown",
      "source": [
        "Pop() - works in FIFO(first in first out)"
      ],
      "metadata": {
        "id": "tX0nTHjAjkRV"
      }
    },
    {
      "cell_type": "code",
      "source": [
        "x.pop()"
      ],
      "metadata": {
        "colab": {
          "base_uri": "https://localhost:8080/"
        },
        "id": "9CZuQj_ejfIN",
        "outputId": "e4044ba9-47df-47da-cec6-8acf42c173a6"
      },
      "execution_count": 13,
      "outputs": [
        {
          "output_type": "execute_result",
          "data": {
            "text/plain": [
              "1"
            ]
          },
          "metadata": {},
          "execution_count": 13
        }
      ]
    },
    {
      "cell_type": "code",
      "source": [
        "x"
      ],
      "metadata": {
        "colab": {
          "base_uri": "https://localhost:8080/"
        },
        "id": "DfBj74rpjtXV",
        "outputId": "19b7003f-fe7e-4364-9e6a-36ad4ebc8982"
      },
      "execution_count": 14,
      "outputs": [
        {
          "output_type": "execute_result",
          "data": {
            "text/plain": [
              "{2, 6, 7}"
            ]
          },
          "metadata": {},
          "execution_count": 14
        }
      ]
    },
    {
      "cell_type": "markdown",
      "source": [
        "Clear() to remove all elements from set"
      ],
      "metadata": {
        "id": "yCYmDrkIj8TD"
      }
    },
    {
      "cell_type": "code",
      "source": [
        "x.clear()\n",
        "x"
      ],
      "metadata": {
        "colab": {
          "base_uri": "https://localhost:8080/"
        },
        "id": "HVpNAXebjvKF",
        "outputId": "4b5b6089-b560-4c37-95de-5dbbb8a3b770"
      },
      "execution_count": 16,
      "outputs": [
        {
          "output_type": "execute_result",
          "data": {
            "text/plain": [
              "set()"
            ]
          },
          "metadata": {},
          "execution_count": 16
        }
      ]
    },
    {
      "cell_type": "markdown",
      "source": [
        "Iterating through set"
      ],
      "metadata": {
        "id": "2wnoCCr2kOt_"
      }
    },
    {
      "cell_type": "code",
      "source": [
        "a"
      ],
      "metadata": {
        "colab": {
          "base_uri": "https://localhost:8080/"
        },
        "id": "2tPazPufkEeX",
        "outputId": "9e126923-255e-4645-8ba2-48a0d1b8e169"
      },
      "execution_count": 17,
      "outputs": [
        {
          "output_type": "execute_result",
          "data": {
            "text/plain": [
              "{'a', 'b', 'd'}"
            ]
          },
          "metadata": {},
          "execution_count": 17
        }
      ]
    },
    {
      "cell_type": "code",
      "source": [
        "for i in a:\n",
        "  print(i)"
      ],
      "metadata": {
        "colab": {
          "base_uri": "https://localhost:8080/"
        },
        "id": "zYtoHKHGkTm8",
        "outputId": "472d36c0-d4df-49f9-a432-bb8272032dfd"
      },
      "execution_count": 18,
      "outputs": [
        {
          "output_type": "stream",
          "name": "stdout",
          "text": [
            "d\n",
            "a\n",
            "b\n"
          ]
        }
      ]
    },
    {
      "cell_type": "markdown",
      "source": [
        "Reverse Function"
      ],
      "metadata": {
        "id": "etk8W48Kk1fy"
      }
    },
    {
      "cell_type": "code",
      "source": [
        "test_set={'goa','delhi','Chandigarh','Bhopal','Chennai'}\n",
        "#to print in sorted form in descending order(Z to A)\n",
        "sorted(test_set,reverse=True)\n",
        "#if you give the condition reverse=True then it is printed in descending order"
      ],
      "metadata": {
        "colab": {
          "base_uri": "https://localhost:8080/"
        },
        "id": "_V5iDC0rk3sq",
        "outputId": "4e7ffd6e-cbd0-4dfe-9674-956130eddbce"
      },
      "execution_count": 20,
      "outputs": [
        {
          "output_type": "execute_result",
          "data": {
            "text/plain": [
              "['goa', 'delhi', 'Chennai', 'Chandigarh', 'Bhopal']"
            ]
          },
          "metadata": {},
          "execution_count": 20
        }
      ]
    },
    {
      "cell_type": "code",
      "source": [
        "test_set"
      ],
      "metadata": {
        "colab": {
          "base_uri": "https://localhost:8080/"
        },
        "id": "491fr_eEl5ZO",
        "outputId": "dbae44be-ea1e-406b-fefb-08e8fdd17f2f"
      },
      "execution_count": 23,
      "outputs": [
        {
          "output_type": "execute_result",
          "data": {
            "text/plain": [
              "{'Bhopal', 'Chandigarh', 'Chennai', 'delhi', 'goa'}"
            ]
          },
          "metadata": {},
          "execution_count": 23
        }
      ]
    },
    {
      "cell_type": "code",
      "source": [
        "#if you give the condition reverse=False then it is printed in ascending order(from A to Z)\n",
        "sorted(test_set,reverse=False)"
      ],
      "metadata": {
        "colab": {
          "base_uri": "https://localhost:8080/"
        },
        "id": "kXBZU0FNlq1C",
        "outputId": "ec98b8b5-4b25-47a5-e42b-18143800258f"
      },
      "execution_count": 22,
      "outputs": [
        {
          "output_type": "execute_result",
          "data": {
            "text/plain": [
              "['Bhopal', 'Chandigarh', 'Chennai', 'delhi', 'goa']"
            ]
          },
          "metadata": {},
          "execution_count": 22
        }
      ]
    },
    {
      "cell_type": "code",
      "source": [
        "test_set"
      ],
      "metadata": {
        "colab": {
          "base_uri": "https://localhost:8080/"
        },
        "id": "vl3cB8hml8FP",
        "outputId": "63356acf-8cc6-4974-866c-4cd0a4455dc5"
      },
      "execution_count": 24,
      "outputs": [
        {
          "output_type": "execute_result",
          "data": {
            "text/plain": [
              "{'Bhopal', 'Chandigarh', 'Chennai', 'delhi', 'goa'}"
            ]
          },
          "metadata": {},
          "execution_count": 24
        }
      ]
    },
    {
      "cell_type": "markdown",
      "source": [
        "Operation on set:- 1) Union             2)Intersection 3)Symmetric diffrence"
      ],
      "metadata": {
        "id": "_X3BW5jlmTE3"
      }
    },
    {
      "cell_type": "markdown",
      "source": [
        "1) Union Method"
      ],
      "metadata": {
        "id": "-5WJMH0SnBP9"
      }
    },
    {
      "cell_type": "code",
      "source": [
        "set1={1,2,3,4,5,6}\n",
        "set2={5,6,7,8}\n",
        "set1.union(set2)"
      ],
      "metadata": {
        "colab": {
          "base_uri": "https://localhost:8080/"
        },
        "id": "Z7lAkEvIl9Ht",
        "outputId": "b8e9582d-2c3b-4e13-81cb-0f66976243ae"
      },
      "execution_count": 25,
      "outputs": [
        {
          "output_type": "execute_result",
          "data": {
            "text/plain": [
              "{1, 2, 3, 4, 5, 6, 7, 8}"
            ]
          },
          "metadata": {},
          "execution_count": 25
        }
      ]
    },
    {
      "cell_type": "code",
      "source": [
        "set2.union(set1)"
      ],
      "metadata": {
        "colab": {
          "base_uri": "https://localhost:8080/"
        },
        "id": "lKlMBS80ncUC",
        "outputId": "e5a2e427-3b30-4350-8719-737d27edee93"
      },
      "execution_count": 26,
      "outputs": [
        {
          "output_type": "execute_result",
          "data": {
            "text/plain": [
              "{1, 2, 3, 4, 5, 6, 7, 8}"
            ]
          },
          "metadata": {},
          "execution_count": 26
        }
      ]
    },
    {
      "cell_type": "markdown",
      "source": [
        "b) using \"|\"(pipe operator)"
      ],
      "metadata": {
        "id": "UTOrQPUMnpjv"
      }
    },
    {
      "cell_type": "code",
      "source": [
        "set2|set1"
      ],
      "metadata": {
        "colab": {
          "base_uri": "https://localhost:8080/"
        },
        "id": "5tMXLZUunv33",
        "outputId": "f6fd64a9-4004-480d-938c-476eec9641a4"
      },
      "execution_count": 27,
      "outputs": [
        {
          "output_type": "execute_result",
          "data": {
            "text/plain": [
              "{1, 2, 3, 4, 5, 6, 7, 8}"
            ]
          },
          "metadata": {},
          "execution_count": 27
        }
      ]
    },
    {
      "cell_type": "markdown",
      "source": [
        "2)Intersection"
      ],
      "metadata": {
        "id": "W3TbCsgtn9Rd"
      }
    },
    {
      "cell_type": "code",
      "source": [
        "set1.intersection(set2)"
      ],
      "metadata": {
        "colab": {
          "base_uri": "https://localhost:8080/"
        },
        "id": "l42rCVb-n1IH",
        "outputId": "6120f9dd-2511-4126-fa19-3a1980cfc8f0"
      },
      "execution_count": 28,
      "outputs": [
        {
          "output_type": "execute_result",
          "data": {
            "text/plain": [
              "{5, 6}"
            ]
          },
          "metadata": {},
          "execution_count": 28
        }
      ]
    },
    {
      "cell_type": "markdown",
      "source": [
        "b) using '&' operator"
      ],
      "metadata": {
        "id": "u29URjkAo_Af"
      }
    },
    {
      "cell_type": "code",
      "source": [
        "set1 & set2"
      ],
      "metadata": {
        "colab": {
          "base_uri": "https://localhost:8080/"
        },
        "id": "AbbxipQHpDwX",
        "outputId": "302d6d83-379c-41df-f802-23d85b401bcc"
      },
      "execution_count": 32,
      "outputs": [
        {
          "output_type": "execute_result",
          "data": {
            "text/plain": [
              "{5, 6}"
            ]
          },
          "metadata": {},
          "execution_count": 32
        }
      ]
    },
    {
      "cell_type": "markdown",
      "source": [
        "3)Diffrence "
      ],
      "metadata": {
        "id": "i7Ccm8OhosBF"
      }
    },
    {
      "cell_type": "code",
      "source": [
        "set1.difference(set2)"
      ],
      "metadata": {
        "colab": {
          "base_uri": "https://localhost:8080/"
        },
        "id": "m-JROXbQouWQ",
        "outputId": "edb4e66c-59eb-4f41-b6ac-7e432b7dddeb"
      },
      "execution_count": 37,
      "outputs": [
        {
          "output_type": "execute_result",
          "data": {
            "text/plain": [
              "{1, 2, 3, 4}"
            ]
          },
          "metadata": {},
          "execution_count": 37
        }
      ]
    },
    {
      "cell_type": "code",
      "source": [
        "set2.difference(set1)"
      ],
      "metadata": {
        "colab": {
          "base_uri": "https://localhost:8080/"
        },
        "id": "MhedPKC1o3j3",
        "outputId": "1a48e6e3-31d1-4223-f284-e1d2821351ab"
      },
      "execution_count": 31,
      "outputs": [
        {
          "output_type": "execute_result",
          "data": {
            "text/plain": [
              "{7, 8}"
            ]
          },
          "metadata": {},
          "execution_count": 31
        }
      ]
    },
    {
      "cell_type": "markdown",
      "source": [
        "b) using '-' operator"
      ],
      "metadata": {
        "id": "Le8tmQDYpImi"
      }
    },
    {
      "cell_type": "code",
      "source": [
        "set1 - set2"
      ],
      "metadata": {
        "colab": {
          "base_uri": "https://localhost:8080/"
        },
        "id": "9Bm-cQDdpMKL",
        "outputId": "3dd747f5-ca5d-4165-c48b-690bc5c8f82e"
      },
      "execution_count": 33,
      "outputs": [
        {
          "output_type": "execute_result",
          "data": {
            "text/plain": [
              "{1, 2, 3, 4}"
            ]
          },
          "metadata": {},
          "execution_count": 33
        }
      ]
    },
    {
      "cell_type": "code",
      "source": [
        "set2-set1"
      ],
      "metadata": {
        "colab": {
          "base_uri": "https://localhost:8080/"
        },
        "id": "Z-qexJempPed",
        "outputId": "125ddb44-2a54-4e12-8af2-d549f5d2991c"
      },
      "execution_count": 34,
      "outputs": [
        {
          "output_type": "execute_result",
          "data": {
            "text/plain": [
              "{7, 8}"
            ]
          },
          "metadata": {},
          "execution_count": 34
        }
      ]
    },
    {
      "cell_type": "markdown",
      "source": [
        "4)Symmetric Diffrence:- includes unique elements of set 1 and set2"
      ],
      "metadata": {
        "id": "I-mV3YW2pTM5"
      }
    },
    {
      "cell_type": "code",
      "source": [
        "set1.symmetric_difference(set2)"
      ],
      "metadata": {
        "colab": {
          "base_uri": "https://localhost:8080/"
        },
        "id": "LR3iEjcMpWyS",
        "outputId": "d2b6ad08-81f1-4038-d354-4547ff5c100b"
      },
      "execution_count": 35,
      "outputs": [
        {
          "output_type": "execute_result",
          "data": {
            "text/plain": [
              "{1, 2, 3, 4, 7, 8}"
            ]
          },
          "metadata": {},
          "execution_count": 35
        }
      ]
    },
    {
      "cell_type": "markdown",
      "source": [
        "b) by \"^\" operator - carrot symbol"
      ],
      "metadata": {
        "id": "83gvSV8kqRsd"
      }
    },
    {
      "cell_type": "code",
      "source": [
        "set1 ^ set2"
      ],
      "metadata": {
        "colab": {
          "base_uri": "https://localhost:8080/"
        },
        "id": "HM6QDpRRqVds",
        "outputId": "091b5073-4fee-4de6-db02-214ff4a2d854"
      },
      "execution_count": 36,
      "outputs": [
        {
          "output_type": "execute_result",
          "data": {
            "text/plain": [
              "{1, 2, 3, 4, 7, 8}"
            ]
          },
          "metadata": {},
          "execution_count": 36
        }
      ]
    },
    {
      "cell_type": "markdown",
      "source": [
        "5) Disjoint operation: return true if set 1 and set 2 has no element in common and vice e versa "
      ],
      "metadata": {
        "id": "T4RNKkAQqmgm"
      }
    },
    {
      "cell_type": "code",
      "source": [
        "set1.isdisjoint(set2)"
      ],
      "metadata": {
        "colab": {
          "base_uri": "https://localhost:8080/"
        },
        "id": "gQ3hYPSlqq_X",
        "outputId": "ff78a0cf-58a1-4e52-c50e-ada474419d8c"
      },
      "execution_count": 38,
      "outputs": [
        {
          "output_type": "execute_result",
          "data": {
            "text/plain": [
              "False"
            ]
          },
          "metadata": {},
          "execution_count": 38
        }
      ]
    }
  ]
}